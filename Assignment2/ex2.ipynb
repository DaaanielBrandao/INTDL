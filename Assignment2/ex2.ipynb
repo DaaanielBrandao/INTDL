{
  "nbformat": 4,
  "nbformat_minor": 0,
  "metadata": {
    "interpreter": {
      "hash": "3352614b04f6a771ec3a392566a3763a34cdc96a177f762027aa589f02ec5f67"
    },
    "kernelspec": {
      "display_name": "Python 3.8.2 32-bit",
      "name": "python3"
    },
    "language_info": {
      "codemirror_mode": {
        "name": "ipython",
        "version": 3
      },
      "file_extension": ".py",
      "mimetype": "text/x-python",
      "name": "python",
      "nbconvert_exporter": "python",
      "pygments_lexer": "ipython3",
      "version": "3.8.2"
    },
    "orig_nbformat": 4,
    "colab": {
      "name": "Cópia de ex2.ipynb",
      "provenance": [],
      "collapsed_sections": []
    },
    "accelerator": "GPU"
  },
  "cells": [
    {
      "cell_type": "code",
      "metadata": {
        "id": "hhVL73CU7nC7",
        "colab": {
          "base_uri": "https://localhost:8080/"
        },
        "outputId": "378475a8-03b8-4ca3-cf54-d70bcf672f62"
      },
      "source": [
        "%tensorflow_version 2.x\n",
        "import tensorflow as tf\n",
        "device_name = tf.test.gpu_device_name()\n",
        "if device_name != '/device:GPU:0':\n",
        "  raise SystemError('GPU device not found')\n",
        "print('Found GPU at: {}'.format(device_name))"
      ],
      "execution_count": null,
      "outputs": [
        {
          "output_type": "stream",
          "name": "stdout",
          "text": [
            "Found GPU at: /device:GPU:0\n"
          ]
        }
      ]
    },
    {
      "cell_type": "code",
      "metadata": {
        "id": "D8GimZcx5Upw"
      },
      "source": [
        "import keras\n",
        "from keras.datasets import mnist\n",
        "from keras.models import Sequential\n",
        "from keras.layers import Dense, Dropout, Flatten\n",
        "from keras.layers import Conv2D, MaxPooling2D\n",
        "from keras.utils import np_utils\n",
        "from tensorflow.keras.optimizers import Adadelta\n",
        "from keras import backend as K\n",
        "from tensorflow.keras.optimizers import RMSprop\n",
        "import numpy as np"
      ],
      "execution_count": 1,
      "outputs": []
    },
    {
      "cell_type": "code",
      "metadata": {
        "id": "LXrGQxou_ODV",
        "colab": {
          "base_uri": "https://localhost:8080/"
        },
        "outputId": "5c0de527-1991-41fb-dbe7-0c4f3187e81d"
      },
      "source": [
        "#permutation experiments\n",
        "arr1 = np.array([[1, 2,3],[4, 5,6], [7, 8,9]])\n",
        "arr_flatten = arr1.reshape(9,1)\n",
        "shuffler = np.random.permutation(len(arr_flatten))\n",
        "arr1_shuffle = arr1.reshape(9,1)[shuffler].reshape((3, 3))\n",
        "print(arr1_shuffle)"
      ],
      "execution_count": 15,
      "outputs": [
        {
          "output_type": "stream",
          "name": "stdout",
          "text": [
            "[[1 4 7]\n",
            " [3 5 2]\n",
            " [8 6 9]]\n"
          ]
        }
      ]
    },
    {
      "cell_type": "code",
      "metadata": {
        "id": "tZESAnha5biu",
        "colab": {
          "base_uri": "https://localhost:8080/"
        },
        "outputId": "3e2f4bbf-1029-4898-be34-969ae6f0b0de"
      },
      "source": [
        "'''Trains a simple convnet on the MNIST dataset.\n",
        "\n",
        "Gets to 99.25% test accuracy after 12 epochs\n",
        "(there is still a lot of margin for parameter tuning).\n",
        "16 seconds per epoch on a GRID K520 GPU.\n",
        "'''\n",
        "\n",
        "batch_size = 128\n",
        "num_classes = 10\n",
        "epochs = 12\n",
        "\n",
        "# input image dimensions\n",
        "img_rows, img_cols = 28, 28\n",
        "\n",
        "# the data, split between train and test sets\n",
        "(x_train, y_train), (x_test, y_test) = mnist.load_data()\n",
        "shuffler = np.random.permutation(28*28)\n",
        "for i, s in enumerate(x_train):\n",
        "  x_train[i] = x_train[i].reshape(28*28,1)[shuffler].reshape((28, 28))\n",
        "for i, s in enumerate(x_test):\n",
        "  x_test[i] = x_test[i].reshape(28*28,1)[shuffler].reshape((28, 28))\n",
        "\n",
        "if K.image_data_format() == 'channels_first':\n",
        "    x_train = x_train.reshape(x_train.shape[0], 1, img_rows, img_cols)\n",
        "    x_test = x_test.reshape(x_test.shape[0], 1, img_rows, img_cols)\n",
        "    input_shape = (1, img_rows, img_cols)\n",
        "else:\n",
        "    x_train = x_train.reshape(x_train.shape[0], img_rows, img_cols, 1)\n",
        "    x_test = x_test.reshape(x_test.shape[0], img_rows, img_cols, 1)\n",
        "    input_shape = (img_rows, img_cols, 1)\n",
        "\n",
        "x_train = x_train.astype('float32')\n",
        "x_test = x_test.astype('float32')\n",
        "x_train /= 255\n",
        "x_test /= 255\n",
        "print('x_train shape:', x_train.shape)\n",
        "print(x_train.shape[0], 'train samples')\n",
        "print(x_test.shape[0], 'test samples')\n",
        "\n",
        "# convert class vectors to binary class matrices\n",
        "y_train = np_utils.to_categorical(y_train, num_classes)\n",
        "y_test = np_utils.to_categorical(y_test, num_classes)\n",
        "\n",
        "model = Sequential()\n",
        "model.add(Conv2D(32, kernel_size=(3, 3),\n",
        "                 activation='relu',\n",
        "                 input_shape=input_shape))\n",
        "model.add(Conv2D(64, (3, 3), activation='relu'))\n",
        "model.add(MaxPooling2D(pool_size=(2, 2)))\n",
        "model.add(Dropout(0.25))\n",
        "model.add(Flatten())\n",
        "model.add(Dense(128, activation='relu'))\n",
        "model.add(Dropout(0.5))\n",
        "model.add(Dense(num_classes, activation='softmax'))\n",
        "\n",
        "model.compile(loss=keras.losses.categorical_crossentropy,\n",
        "              optimizer=Adadelta(),\n",
        "              metrics=['accuracy'])\n",
        "\n",
        "model.fit(x_train, y_train,\n",
        "          batch_size=batch_size,\n",
        "          epochs=epochs,\n",
        "          verbose=1,\n",
        "          validation_data=(x_test, y_test))\n",
        "score = model.evaluate(x_test, y_test, verbose=0)\n",
        "print('Test loss:', score[0])\n",
        "print('Test accuracy:', score[1])\n"
      ],
      "execution_count": null,
      "outputs": [
        {
          "output_type": "stream",
          "name": "stdout",
          "text": [
            "x_train shape: (60000, 28, 28, 1)\n",
            "60000 train samples\n",
            "10000 test samples\n",
            "Epoch 1/12\n",
            "469/469 [==============================] - 8s 16ms/step - loss: 2.2850 - accuracy: 0.1276 - val_loss: 2.2635 - val_accuracy: 0.2013\n",
            "Epoch 2/12\n",
            "469/469 [==============================] - 7s 15ms/step - loss: 2.2562 - accuracy: 0.1838 - val_loss: 2.2294 - val_accuracy: 0.3669\n",
            "Epoch 3/12\n",
            "469/469 [==============================] - 7s 16ms/step - loss: 2.2259 - accuracy: 0.2442 - val_loss: 2.1930 - val_accuracy: 0.5185\n",
            "Epoch 4/12\n",
            "469/469 [==============================] - 7s 15ms/step - loss: 2.1919 - accuracy: 0.2945 - val_loss: 2.1526 - val_accuracy: 0.5923\n",
            "Epoch 5/12\n",
            "469/469 [==============================] - 7s 15ms/step - loss: 2.1523 - accuracy: 0.3471 - val_loss: 2.1076 - val_accuracy: 0.6367\n",
            "Epoch 6/12\n",
            "469/469 [==============================] - 7s 15ms/step - loss: 2.1096 - accuracy: 0.3923 - val_loss: 2.0579 - val_accuracy: 0.6709\n",
            "Epoch 7/12\n",
            "469/469 [==============================] - 7s 15ms/step - loss: 2.0625 - accuracy: 0.4238 - val_loss: 2.0039 - val_accuracy: 0.6946\n",
            "Epoch 8/12\n",
            "469/469 [==============================] - 7s 15ms/step - loss: 2.0123 - accuracy: 0.4565 - val_loss: 1.9450 - val_accuracy: 0.7104\n",
            "Epoch 9/12\n",
            "469/469 [==============================] - 7s 15ms/step - loss: 1.9583 - accuracy: 0.4845 - val_loss: 1.8823 - val_accuracy: 0.7287\n",
            "Epoch 10/12\n",
            "469/469 [==============================] - 7s 15ms/step - loss: 1.9018 - accuracy: 0.5050 - val_loss: 1.8156 - val_accuracy: 0.7403\n",
            "Epoch 11/12\n",
            "469/469 [==============================] - 7s 15ms/step - loss: 1.8404 - accuracy: 0.5282 - val_loss: 1.7450 - val_accuracy: 0.7542\n",
            "Epoch 12/12\n",
            "469/469 [==============================] - 7s 15ms/step - loss: 1.7795 - accuracy: 0.5469 - val_loss: 1.6711 - val_accuracy: 0.7597\n",
            "Test loss: 1.6711031198501587\n",
            "Test accuracy: 0.7597000002861023\n"
          ]
        }
      ]
    },
    {
      "cell_type": "markdown",
      "metadata": {
        "id": "x1WxQxWovdto"
      },
      "source": [
        "# MLP"
      ]
    },
    {
      "cell_type": "code",
      "metadata": {
        "id": "hjCNYDOIvBJH"
      },
      "source": [
        "batch_size = 128\n",
        "num_classes = 10\n",
        "epochs = 20"
      ],
      "execution_count": 2,
      "outputs": []
    },
    {
      "cell_type": "code",
      "metadata": {
        "id": "bOf7Xsgwvj00"
      },
      "source": [
        "(x_train, y_train), (x_test, y_test) = mnist.load_data()\n",
        "shuffler = np.random.permutation(28*28)\n",
        "for i, s in enumerate(x_train):\n",
        "  x_train[i] = x_train[i].reshape(28*28,1)[shuffler].reshape((28, 28))\n",
        "for i, s in enumerate(x_test):\n",
        "  x_test[i] = x_test[i].reshape(28*28,1)[shuffler].reshape((28, 28))"
      ],
      "execution_count": 9,
      "outputs": []
    },
    {
      "cell_type": "code",
      "metadata": {
        "id": "jGwEAklyvmMq"
      },
      "source": [
        "x_train = x_train.reshape(60000, 784)\n",
        "x_test = x_test.reshape(10000, 784)"
      ],
      "execution_count": 10,
      "outputs": []
    },
    {
      "cell_type": "code",
      "metadata": {
        "colab": {
          "base_uri": "https://localhost:8080/"
        },
        "id": "SzNBpbkrvoAT",
        "outputId": "deb75bc9-11ce-4006-b202-8a1de0ec4b03"
      },
      "source": [
        "x_train = x_train.astype('float32')\n",
        "x_test = x_test.astype('float32')\n",
        "x_train /= 255\n",
        "x_test /= 255\n",
        "print(x_train.shape[0], 'train samples')\n",
        "print(x_test.shape[0], 'test samples')"
      ],
      "execution_count": 11,
      "outputs": [
        {
          "output_type": "stream",
          "name": "stdout",
          "text": [
            "60000 train samples\n",
            "10000 test samples\n"
          ]
        }
      ]
    },
    {
      "cell_type": "code",
      "metadata": {
        "id": "G4_698EQvpTl"
      },
      "source": [
        "# convert class vectors to binary class matrices\n",
        "\n",
        "y_train = np_utils.to_categorical(y_train, num_classes) # each instance is an array \n",
        "y_test = np_utils.to_categorical(y_test, num_classes)"
      ],
      "execution_count": 12,
      "outputs": []
    },
    {
      "cell_type": "code",
      "metadata": {
        "colab": {
          "base_uri": "https://localhost:8080/"
        },
        "id": "NIBK88VQvqyt",
        "outputId": "385702ab-59b6-4a03-8525-abd5e782c1a4"
      },
      "source": [
        "model = Sequential()\n",
        "model.add(Dense(512, activation='relu', input_shape=(784,)))\n",
        "#model.add(Dropout(0.2))\n",
        "model.add(Dense(512, activation='relu'))\n",
        "#model.add(Dropout(0.2))\n",
        "model.add(Dense(num_classes, activation='softmax'))\n",
        "\n",
        "model.summary()\n",
        "\n",
        "model.compile(loss='categorical_crossentropy',\n",
        "              optimizer=RMSprop(),\n",
        "              metrics=['accuracy'])\n"
      ],
      "execution_count": 13,
      "outputs": [
        {
          "output_type": "stream",
          "name": "stdout",
          "text": [
            "Model: \"sequential_1\"\n",
            "_________________________________________________________________\n",
            "Layer (type)                 Output Shape              Param #   \n",
            "=================================================================\n",
            "dense_3 (Dense)              (None, 512)               401920    \n",
            "_________________________________________________________________\n",
            "dense_4 (Dense)              (None, 512)               262656    \n",
            "_________________________________________________________________\n",
            "dense_5 (Dense)              (None, 10)                5130      \n",
            "=================================================================\n",
            "Total params: 669,706\n",
            "Trainable params: 669,706\n",
            "Non-trainable params: 0\n",
            "_________________________________________________________________\n"
          ]
        }
      ]
    },
    {
      "cell_type": "code",
      "metadata": {
        "colab": {
          "base_uri": "https://localhost:8080/"
        },
        "id": "hqXQ_tZMvtEr",
        "outputId": "ae148ae7-6eaf-4a6e-a2f3-84c4884497b3"
      },
      "source": [
        "history = model.fit(x_train, y_train,\n",
        "                    batch_size=batch_size,\n",
        "                    epochs=epochs,\n",
        "                    verbose=1,\n",
        "                    validation_data=(x_test, y_test))\n",
        "score = model.evaluate(x_test, y_test, verbose=0)\n",
        "print('Test loss:', score[0])\n",
        "print('Test accuracy:', score[1])\n",
        "# the warning message is expected"
      ],
      "execution_count": 14,
      "outputs": [
        {
          "output_type": "stream",
          "name": "stdout",
          "text": [
            "Epoch 1/20\n",
            "469/469 [==============================] - 3s 6ms/step - loss: 0.2189 - accuracy: 0.9331 - val_loss: 0.1380 - val_accuracy: 0.9580\n",
            "Epoch 2/20\n",
            "469/469 [==============================] - 2s 5ms/step - loss: 0.0807 - accuracy: 0.9748 - val_loss: 0.0949 - val_accuracy: 0.9692\n",
            "Epoch 3/20\n",
            "469/469 [==============================] - 2s 5ms/step - loss: 0.0541 - accuracy: 0.9837 - val_loss: 0.0635 - val_accuracy: 0.9812\n",
            "Epoch 4/20\n",
            "469/469 [==============================] - 2s 5ms/step - loss: 0.0385 - accuracy: 0.9881 - val_loss: 0.0653 - val_accuracy: 0.9825\n",
            "Epoch 5/20\n",
            "469/469 [==============================] - 2s 5ms/step - loss: 0.0297 - accuracy: 0.9906 - val_loss: 0.0726 - val_accuracy: 0.9815\n",
            "Epoch 6/20\n",
            "469/469 [==============================] - 2s 5ms/step - loss: 0.0237 - accuracy: 0.9925 - val_loss: 0.0996 - val_accuracy: 0.9780\n",
            "Epoch 7/20\n",
            "469/469 [==============================] - 2s 5ms/step - loss: 0.0189 - accuracy: 0.9942 - val_loss: 0.1022 - val_accuracy: 0.9789\n",
            "Epoch 8/20\n",
            "469/469 [==============================] - 2s 5ms/step - loss: 0.0156 - accuracy: 0.9950 - val_loss: 0.0879 - val_accuracy: 0.9830\n",
            "Epoch 9/20\n",
            "469/469 [==============================] - 2s 5ms/step - loss: 0.0128 - accuracy: 0.9959 - val_loss: 0.1177 - val_accuracy: 0.9778\n",
            "Epoch 10/20\n",
            "469/469 [==============================] - 2s 5ms/step - loss: 0.0113 - accuracy: 0.9964 - val_loss: 0.1039 - val_accuracy: 0.9822\n",
            "Epoch 11/20\n",
            "469/469 [==============================] - 2s 5ms/step - loss: 0.0092 - accuracy: 0.9973 - val_loss: 0.1185 - val_accuracy: 0.9812\n",
            "Epoch 12/20\n",
            "469/469 [==============================] - 2s 5ms/step - loss: 0.0102 - accuracy: 0.9971 - val_loss: 0.1142 - val_accuracy: 0.9832\n",
            "Epoch 13/20\n",
            "469/469 [==============================] - 2s 5ms/step - loss: 0.0084 - accuracy: 0.9976 - val_loss: 0.1181 - val_accuracy: 0.9815\n",
            "Epoch 14/20\n",
            "469/469 [==============================] - 2s 5ms/step - loss: 0.0078 - accuracy: 0.9980 - val_loss: 0.1427 - val_accuracy: 0.9805\n",
            "Epoch 15/20\n",
            "469/469 [==============================] - 3s 5ms/step - loss: 0.0074 - accuracy: 0.9979 - val_loss: 0.1406 - val_accuracy: 0.9818\n",
            "Epoch 16/20\n",
            "469/469 [==============================] - 3s 5ms/step - loss: 0.0065 - accuracy: 0.9983 - val_loss: 0.1429 - val_accuracy: 0.9834\n",
            "Epoch 17/20\n",
            "469/469 [==============================] - 2s 5ms/step - loss: 0.0061 - accuracy: 0.9983 - val_loss: 0.1419 - val_accuracy: 0.9839\n",
            "Epoch 18/20\n",
            "469/469 [==============================] - 2s 5ms/step - loss: 0.0058 - accuracy: 0.9984 - val_loss: 0.1828 - val_accuracy: 0.9787\n",
            "Epoch 19/20\n",
            "469/469 [==============================] - 2s 5ms/step - loss: 0.0062 - accuracy: 0.9985 - val_loss: 0.1652 - val_accuracy: 0.9826\n",
            "Epoch 20/20\n",
            "469/469 [==============================] - 3s 5ms/step - loss: 0.0054 - accuracy: 0.9987 - val_loss: 0.1708 - val_accuracy: 0.9823\n",
            "Test loss: 0.17084428668022156\n",
            "Test accuracy: 0.9822999835014343\n"
          ]
        }
      ]
    }
  ]
}