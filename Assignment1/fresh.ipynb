{
 "cells": [
  {
   "cell_type": "code",
   "execution_count": 92,
   "metadata": {},
   "outputs": [],
   "source": [
    "import numpy as np\n",
    "import abc\n",
    "import math"
   ]
  },
  {
   "cell_type": "code",
   "execution_count": 82,
   "metadata": {},
   "outputs": [],
   "source": [
    "nodes_per_layer = [2,2,1]\n",
    "bias_value = 1\n",
    "\n",
    "#testing purposes\n",
    "np.random.seed(256)"
   ]
  },
  {
   "cell_type": "code",
   "execution_count": 31,
   "metadata": {},
   "outputs": [],
   "source": [
    "def sigmoid(x):\n",
    "    return 1/(1 + np.exp(-x))\n",
    "\n",
    "def sigmoid_derivate(x):\n",
    "    return x * (1 - x)\n",
    "\n",
    "def tanh(x):\n",
    "    return np.tanh(x)\n",
    "\n",
    "def tanh_derivative(x):\n",
    "    return 1.0 - x**2\n",
    "\n",
    "def relu(x):\n",
    "    return max(x, 0)\n",
    "\n",
    "def relu_derivative(x):\n",
    "    return 0 if x <= 0 else x\n",
    "    \n",
    "def get_nr_weights(nodes_per_layer):\n",
    "\n",
    "    nr_weights = 0\n",
    "\n",
    "    for idx in range(len(nodes_per_layer) - 1):\n",
    "        current_layer = nodes_per_layer[idx]\n",
    "        next_layer = nodes_per_layer[idx + 1]\n",
    "\n",
    "        nr_weights = nr_weights + (current_layer + 1) * next_layer\n",
    "\n",
    "    return nr_weights\n",
    "\n"
   ]
  },
  {
   "cell_type": "code",
   "execution_count": 32,
   "metadata": {},
   "outputs": [],
   "source": [
    "def step(value, threshold):\n",
    "    return 0 if value < threshold else 1\n",
    "\n",
    "\n",
    "def mse(weights):\n",
    "\n",
    "    inputs = np.array([[0,0],[0,1],[1,0],[1,1]])\n",
    "    expected_output = np.array([[0],[1],[1],[0]])\n",
    "\n",
    "    misclassified = 0\n",
    "\n",
    "    predicted = []\n",
    "    index = 0\n",
    "    for possible_inputs in inputs:\n",
    "        val = xor_net(possible_inputs[0], possible_inputs[1], sigmoid, weights)\n",
    "        predicted.append(val[-1])\n",
    "        #print(predicted[-1][0])\n",
    "        #print(step(predicted[-1][0], 0.5))\n",
    "        misclassified +=  step(predicted[-1][0], 0.5) != expected_output[index][0]\n",
    "        index += 1\n",
    "            \n",
    "    predicted = np.array(predicted)\n",
    "\n",
    "    error = expected_output - predicted\n",
    "    error = error * error\n",
    "    return np.mean(error), misclassified"
   ]
  },
  {
   "cell_type": "code",
   "execution_count": 69,
   "metadata": {},
   "outputs": [],
   "source": [
    "def UniformDistributionWeight(lower,upper,shape):\n",
    "    return np.random.uniform(lower, upper, size=shape)\n",
    "def divide_in_layers_matrix( weights, nodes_per_layer):\n",
    "    layers = []\n",
    "    last = 0\n",
    "    for idx in range(len(nodes_per_layer) - 1):\n",
    "        current_layer = nodes_per_layer[idx]\n",
    "        next_layer = nodes_per_layer[idx + 1]\n",
    "        temp = (current_layer + 1) * next_layer\n",
    "        layers.append(weights[last : last + temp].reshape(current_layer + 1, next_layer))\n",
    "        #print(\"{}:{}\".format(last, last + temp))\n",
    "        last = temp\n",
    "\n",
    "    return layers\n",
    "    \n",
    "def get_nr_weights(nodes_per_layer):\n",
    "\n",
    "    nr_weights = 0\n",
    "\n",
    "    for idx in range(len(nodes_per_layer) - 1):\n",
    "        current_layer = nodes_per_layer[idx]\n",
    "        next_layer = nodes_per_layer[idx + 1]\n",
    "\n",
    "        nr_weights = nr_weights + (current_layer + 1) * next_layer\n",
    "\n",
    "    return nr_weights"
   ]
  },
  {
   "cell_type": "code",
   "execution_count": 34,
   "metadata": {},
   "outputs": [],
   "source": [
    "weights = UniformDistributionWeight(-1, 1, get_nr_weights(nodes_per_layer))\n"
   ]
  },
  {
   "cell_type": "code",
   "execution_count": 35,
   "metadata": {},
   "outputs": [],
   "source": [
    "def xor_net(x1, x2, activity, weights):\n",
    "    values = [ np.array([bias_value,x1, x2]) ]\n",
    "    weights = divide_in_layers_matrix(weights, nodes_per_layer)\n",
    "    w_len = len(weights) - 1\n",
    "    \n",
    "    for i in range(w_len):\n",
    "        net = np.dot(values[i], weights[i])\n",
    "        output = activity(net)\n",
    "        #output = np.concatenate((np.array([bias_value]), np.array(output)))\n",
    "        output = np.concatenate((np.ones(1), np.array(output)))\n",
    "        values.append(output)\n",
    "\n",
    "    net = values[len(values) -1].dot(weights[w_len])\n",
    "    output = activity(net)\n",
    "    values.append(output)\n",
    "        \n",
    "    return values\n",
    "\n",
    "vals = np.array(xor_net(1.0, 0.0, sigmoid, weights), dtype=\"object\")"
   ]
  },
  {
   "cell_type": "code",
   "execution_count": 36,
   "metadata": {},
   "outputs": [
    {
     "data": {
      "text/plain": [
       "[array([[-0.03509089,  0.02936716],\n",
       "        [-0.03509089,  0.02936716],\n",
       "        [ 0.        ,  0.        ]]),\n",
       " array([[0.14812249],\n",
       "        [0.08145243],\n",
       "        [0.09695126]])]"
      ]
     },
     "execution_count": 36,
     "metadata": {},
     "output_type": "execute_result"
    }
   ],
   "source": [
    "def back_prop( y, target, activity_derivative, weights):\n",
    "    error = target - y[-1]\n",
    "    delta_vec = [error * activity_derivative(y[-1])]\n",
    "    weights = divide_in_layers_matrix(weights, nodes_per_layer)\n",
    "    #print(weights)\n",
    "\n",
    "    # we need to begin from the back, from the next to last layer\n",
    "    for i in range(len(nodes_per_layer)-2, 0, -1):\n",
    "        error = delta_vec[-1].dot(weights[i][1:].T)\n",
    "        error = error * activity_derivative(y[i][1:])\n",
    "        delta_vec.append(error)\n",
    "\n",
    "    # Now we need to set the values from back to front\n",
    "    #print('delta_vec: ', delta_vec)\n",
    "    delta_vec.reverse()\n",
    "    # Finally, we adjust the weights, using the backpropagation \n",
    "    deltas = []\n",
    "    for i in range(len(weights)):\n",
    "        layer = y[i].reshape(1, nodes_per_layer[i]+1)\n",
    "        #print('layer ',layer)\n",
    "        delta = delta_vec[i].reshape(1, nodes_per_layer[i+1])\n",
    "        #print('layertdelta:\\n',layer.T.dot(delta))\n",
    "        deltas.append(layer.T.dot(delta))\n",
    "\n",
    "\n",
    "    return deltas\n",
    "\n",
    "\n",
    "back_prop(vals, 1.0, sigmoid_derivate, weights)"
   ]
  },
  {
   "cell_type": "code",
   "execution_count": 98,
   "metadata": {},
   "outputs": [],
   "source": [
    "# Initialization techniques of weights here defined\n",
    "class WeightInitialization(metaclass=abc.ABCMeta):\n",
    "\n",
    "\n",
    "    @abc.abstractmethod\n",
    "    def init(self, shape):\n",
    "        pass\n",
    "\n",
    "#ar = UniformDistributionWeight(-1.0, 1.0)\n",
    "#var.init(9)\n",
    "\n",
    "class NormalDistributionWeight(WeightInitialization):\n",
    "\n",
    "    def __init__(self, mean, variance):\n",
    "        self.mean = mean\n",
    "        self.variance = variance\n",
    "\n",
    "    def init(self, shape):\n",
    "        return np.random.normal(self.mean, self.variance, size = shape)\n",
    "\n",
    "\n",
    "class GlorotWeight(WeightInitialization):\n",
    "\n",
    "    def __init__(self, nodes_per_layer, mean):\n",
    "        weights = np.array([])\n",
    "        for l in range(len(nodes_per_layer) - 1):\n",
    "            l1 = nodes_per_layer[l] + 1\n",
    "            l2 = nodes_per_layer[l  + 1]\n",
    "            fan_avg = (l1 + l2) / 2\n",
    "            temp = np.random.normal(mean, 1/ math.sqrt(fan_avg), size = l1 * l2)\n",
    "            weights = np.append(weights, temp)\n",
    "\n",
    "        self.weights = np.array(weights).reshape(-1)\n",
    "\n",
    "    def init(self):\n",
    "        return self.weights\n",
    "class HeWeightInitialization(WeightInitialization):\n",
    "\n",
    "    def __init__(self, nodes_per_layer, mean):\n",
    "        weights = np.array([])\n",
    "        for l in range(len(nodes_per_layer) - 1):\n",
    "            l1 = nodes_per_layer[l] + 1\n",
    "            l2 = nodes_per_layer[l + 1]\n",
    "            fan_in =  l1\n",
    "            temp = np.random.normal(mean, 1/ math.sqrt(2.0/fan_in), size = l1 * l2)\n",
    "            weights = np.append(weights, temp)\n",
    "\n",
    "        self.weights = np.array(weights).reshape(-1)\n",
    "\n",
    "    def init(self):\n",
    "        return self.weights\n",
    "\n",
    "\n",
    "    "
   ]
  },
  {
   "cell_type": "code",
   "execution_count": 102,
   "metadata": {},
   "outputs": [
    {
     "name": "stderr",
     "output_type": "stream",
     "text": [
      "C:\\Users\\danie\\AppData\\Local\\Temp/ipykernel_7244/3557293605.py:35: VisibleDeprecationWarning: Creating an ndarray from ragged nested sequences (which is a list-or-tuple of lists-or-tuples-or ndarrays with different lengths or shapes) is deprecated. If you meant to do this, you must specify 'dtype=object' when creating the ndarray.\n",
      "  deltas = back_prop(np.array(y), target, sigmoid_derivate, weights)\n"
     ]
    },
    {
     "name": "stdout",
     "output_type": "stream",
     "text": [
      "epochs: 10000\n",
      "epochs: 20000\n",
      "epochs: 30000\n",
      "epochs: 40000\n",
      "epochs: 50000\n"
     ]
    }
   ],
   "source": [
    "weights = UniformDistributionWeight(-1.0, 1.0, get_nr_weights(nodes_per_layer))\n",
    "\n",
    "#var = NormalDistributionWeight(0, 1.0)\n",
    "#weights = var.init(9)\n",
    "#var = GlorotWeight(nodes_per_layer,0)\n",
    "#weights = var.init()\n",
    "var =   HeWeightInitialization(nodes_per_layer,0)\n",
    "weights = var.init()\n",
    "mse_list_he, miss_list = [],[]\n",
    "\n",
    "\n",
    "inputs = [[0.0, 0.0],[0.0,1.0],[1.0,0.0],[1.0,1.0]]\n",
    "expected_output = [ [0.0],[1.0],[1.0],[0.0]]\n",
    "\n",
    "learning_rate =0.1\n",
    "#print (divide_in_layers_matrix(weights, nodes_per_layer))\n",
    "\n",
    "for k in range(50000):\n",
    "\n",
    "\n",
    "    if (k+1) % 10000 == 0:\n",
    "        print('epochs: {}'.format(k+1))\n",
    "\n",
    "    sample = np.random.randint(len(inputs))\n",
    "    y = xor_net(inputs[sample][0], inputs[sample][1], sigmoid, weights)\n",
    "    #mse\n",
    "    \n",
    "    mse_elem, miss = mse(weights)\n",
    "    mse_list_he.append(mse_elem)\n",
    "    miss_list.append(miss)\n",
    "\n",
    "    # Now we do our back-propagation of the error to adjust the weights:\n",
    "    target = expected_output[sample]\n",
    "    #print(y)\n",
    "    deltas = back_prop(np.array(y), target, sigmoid_derivate, weights)\n",
    "    flatten_deltas = np.append(deltas[0].flatten(),np.transpose(np.array(deltas[1])).flatten())\n",
    "\n",
    "    weights += flatten_deltas * learning_rate\n",
    "    #print(weights)\n",
    "#print(weights)"
   ]
  },
  {
   "cell_type": "code",
   "execution_count": 103,
   "metadata": {},
   "outputs": [
    {
     "data": {
      "text/plain": [
       "Text(0, 0.5, 'MSE')"
      ]
     },
     "execution_count": 103,
     "metadata": {},
     "output_type": "execute_result"
    },
    {
     "data": {
      "image/png": "[encoded data removed]",
      "text/plain": [
       "<Figure size 640x480 with 1 Axes>"
      ]
     },
     "metadata": {
      "needs_background": "light"
     },
     "output_type": "display_data"
    }
   ],
   "source": [
    "import matplotlib.pyplot as plt\n",
    "from matplotlib.pyplot import figure\n",
    "figure(figsize=(8, 6), dpi=80)\n",
    "plt.plot(range(len(mse_list_uni)),mse_list_uni,label='Uniform weight dist')\n",
    "plt.plot(range(len(mse_list_no)),mse_list_no,label='Normal weight dist')\n",
    "plt.plot(range(len(mse_list_glorot)),mse_list_glorot,label='Glorot weight dist')\n",
    "plt.plot(range(len(mse_list_he)),mse_list_he,label='He weight dist')\n",
    "plt.legend()\n",
    "plt.title('MSE over epochs')\n",
    "plt.xlabel('epoch')\n",
    "plt.ylabel('MSE')"
   ]
  },
  {
   "cell_type": "code",
   "execution_count": 55,
   "metadata": {},
   "outputs": [
    {
     "data": {
      "text/plain": [
       "[<matplotlib.lines.Line2D at 0xc414640>]"
      ]
     },
     "execution_count": 55,
     "metadata": {},
     "output_type": "execute_result"
    },
    {
     "data": {
      "image/png": "[encoded data removed]",
      "text/plain": [
       "<Figure size 432x288 with 1 Axes>"
      ]
     },
     "metadata": {
      "needs_background": "light"
     },
     "output_type": "display_data"
    }
   ],
   "source": [
    "plt.plot(range(len(miss_list)),miss_list)"
   ]
  },
  {
   "cell_type": "code",
   "execution_count": null,
   "metadata": {},
   "outputs": [
    {
     "name": "stdout",
     "output_type": "stream",
     "text": [
      "Final predictsion\n",
      "[0.0, 0.0] 0.049996332916655305\n",
      "[0.0, 1.0] 0.9546579497719521\n",
      "[1.0, 0.0] 0.9549510798913605\n",
      "[1.0, 1.0] 0.048386169472889366\n"
     ]
    }
   ],
   "source": [
    "def predict_single_data(x, activity):\n",
    "    val = np.concatenate((np.ones(1).T, np.array(x)))\n",
    "    #print(weights)\n",
    "    w = divide_in_layers_matrix(weights, nodes_per_layer)\n",
    "    for i in range(0, len(w)):\n",
    "        val = activity(np.dot(val, w[i]))\n",
    "        val = np.concatenate((np.ones(1).T, np.array(val)))\n",
    "    return val[1]\n",
    "\n",
    "\n",
    "def predict(X):\n",
    "    Y = np.array([]).reshape(0, nodes_per_layer[-1])\n",
    "    for x in X:\n",
    "        y = np.array([[predict_single_data(x)]])\n",
    "        Y = np.vstack((Y,y))\n",
    "    return Y\n",
    "\n",
    "print(\"Final predictsion\")\n",
    "for s in inputs:\n",
    "    print(s, predict_single_data(s, sigmoid))"
   ]
  },
  {
   "cell_type": "code",
   "execution_count": 127,
   "metadata": {},
   "outputs": [
    {
     "name": "stdout",
     "output_type": "stream",
     "text": [
      "a\n",
      "b\n",
      "[3306.0, 2666, 3824, 169]\n"
     ]
    },
    {
     "data": {
      "image/png": "[encoded data removed]",
      "text/plain": [
       "<Figure size 432x288 with 1 Axes>"
      ]
     },
     "metadata": {
      "needs_background": "light"
     },
     "output_type": "display_data"
    }
   ],
   "source": [
    "def lazy_aproach():\n",
    "    res = []\n",
    "    counter = 0\n",
    "    done = 5\n",
    "    while done > 0:\n",
    "      counter += 1\n",
    "      weights = UniformDistributionWeight(-5,5, get_nr_weights(nodes_per_layer))\n",
    "      _, miss = mse(weights)\n",
    "      if(miss == 0.0):\n",
    "          done -=1\n",
    "    res.append(counter/5)\n",
    "    counter = 0 \n",
    "    done = False\n",
    "    while not done:\n",
    "      counter += 1\n",
    "      var = NormalDistributionWeight(0, 5.0)\n",
    "      weights = var.init(9)\n",
    "      _, miss = mse(weights)\n",
    "      if(miss == 0.0):\n",
    "          res.append(counter)\n",
    "          counter = 0 \n",
    "          done = True\n",
    "    print('a')\n",
    "    done = False\n",
    "    while not done:\n",
    "      counter += 1\n",
    "      var = GlorotWeight(nodes_per_layer,0)\n",
    "      weights = var.init()*5\n",
    "      _, miss = mse(weights)\n",
    "      if(miss == 0.0):\n",
    "          res.append(counter)\n",
    "          counter = 0 \n",
    "          done = True\n",
    "    print('b')\n",
    "    done = False\n",
    "    while not done:\n",
    "      counter += 1\n",
    "      var =   HeWeightInitialization(nodes_per_layer,0)\n",
    "      weights = var.init()*5\n",
    "      _, miss = mse(weights)\n",
    "      if(miss == 0.0):\n",
    "          res.append(counter)\n",
    "          counter = 0 \n",
    "          done = True\n",
    "    print(res)\n",
    "    plt.bar(['Uniform','Normal','Glorot','He'],res)\n",
    "\n",
    "    plt.title('Tries to lazy aproach')\n",
    "    plt.xlabel('Weight initialization method')\n",
    "    plt.ylabel('Number of tries ')\n",
    "lazy_aproach()"
   ]
  }
 ],
 "metadata": {
  "interpreter": {
   "hash": "3352614b04f6a771ec3a392566a3763a34cdc96a177f762027aa589f02ec5f67"
  },
  "kernelspec": {
   "display_name": "Python 3.8.2 32-bit",
   "name": "python3"
  },
  "language_info": {
   "codemirror_mode": {
    "name": "ipython",
    "version": 3
   },
   "file_extension": ".py",
   "mimetype": "text/x-python",
   "name": "python",
   "nbconvert_exporter": "python",
   "pygments_lexer": "ipython3",
   "version": "3.8.2"
  },
  "orig_nbformat": 4
 },
 "nbformat": 4,
 "nbformat_minor": 2
}
